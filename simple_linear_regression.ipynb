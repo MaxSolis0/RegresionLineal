{
  "cells": [
    {
      "cell_type": "markdown",
      "source": [
        "# Homework 2: Simple linear regression using TensorFlow in Python\n",
        "Universidad de Monterrey\n",
        "\n",
        "Integrantes:\n",
        "*   Max Kevin Solís Meester\n",
        "*   Víctor Yahir Yahir Ramírez Martínez\n",
        "\n",
        "Programa académico:\n",
        "*   Ingeniería Mecánica Administrativa\n",
        "*   Ingeniería en Tecnologías Computacionales\n",
        "\n",
        "Profesor: Andrés Hernández Gutiérrez\n",
        "\n",
        "Nuevo León, 31 de Enero de 2025\n",
        "\n",
        "\n"
      ],
      "metadata": {
        "id": "_-qaRJETUZIi"
      }
    },
    {
      "cell_type": "markdown",
      "source": [
        "## Código y explicación"
      ],
      "metadata": {
        "id": "e87wIm7OVmsb"
      }
    },
    {
      "cell_type": "markdown",
      "source": [
        "Se importan las librerias que guardan las funciones para facilitar el proceso de manipulacion de datos y entrenamiento.\n",
        "\n",
        "\n",
        "*   **Numpy:** Sirve para manejo de números y operaciones matemáticas (NumPy, 2024).\n",
        "*   **Tensorflow:** Es la libreria para generar las redes neuronales, en este caso el perceptron. Facilita el crear modelos de machine learning (Tensorflow, 2024).\n",
        "*   **Matplotlib.pyplot:** Es una herramienta que permite realizar gráficas y tablas en Python. Permite escribir código en una manera simple, similar a MATLAB. Automáticamente muestra las gráficas en una ventana y actúa como gestor de la interfaz gráfica de las figuras (Matplotlib, 2024).\n",
        "*   **Train_test_split:** Parte de Scikitlearn, sirve para separar los datos para entrenamiento y prueba aleatoriamente (Scikit Learn, 2025).\n",
        "*   **Time:** Permite manejo de tiempos, en este caso para determinar la duracion del entrenamiento (Python.org, 2022)\n",
        "\n"
      ],
      "metadata": {
        "id": "r-hxveflmGWH"
      }
    },
    {
      "cell_type": "code",
      "execution_count": null,
      "metadata": {
        "id": "yNZKyWNZBHQ2"
      },
      "outputs": [],
      "source": [
        "# Import standard libraries\n",
        "import numpy as np\n",
        "import tensorflow as tf\n",
        "import matplotlib.pyplot as plt\n",
        "from sklearn.model_selection import train_test_split\n",
        "import time"
      ]
    },
    {
      "cell_type": "markdown",
      "source": [
        "Esta línea de código es usada para generar números pseudo aleatorios en Python. Aún cuando se generan \"aleatoriamente\", las computadoras no pueden generar aleatoriedad real sino que utilizan formulas complejas y mezclan parámetros como la hora para simularlo. La *seed* es un parametro que se utiliza para identificar el patron de \"aleatoriedad\" generado (GeeksforGeeks, 2024)."
      ],
      "metadata": {
        "id": "epUYGuJbdLAn"
      }
    },
    {
      "cell_type": "code",
      "source": [
        "# 1. Seed for reproducibility\n",
        "np.random.seed(4500)"
      ],
      "metadata": {
        "id": "vFkP9Gn2dIda"
      },
      "execution_count": null,
      "outputs": []
    },
    {
      "cell_type": "markdown",
      "source": [
        "En esta sección primero se genera el dataset, se comienza con una lista *x* del 0 al 100 en pasos de 1, es decir 0,1,2,...,100.\n",
        "\n",
        "La función arange (Numpy, 2024) acepta como parámetros relevantes:\n",
        "*   **start**: Un número indicando el comienzo del intervalo.\n",
        "*   **stop:** Un número indicando el final del intervalo.\n",
        "*   **step:** Un número indicando el espacio entre los valores generados.\n",
        "\n",
        "\n",
        "Se establecen parámetros para el ruido: su media y desviación estándar.\n",
        "*true_coeffs* son los parámetros de la función lineal deseada, en orden intercepto - pendiente. En este caso indicamos que deseamos una función lineal de la forma $y=3x+1$, agregando ruido que tenga una media de 0 y una desviación estándar de 5.\n",
        "\n",
        "Finalmente se genera *y* como una función lineal de *x* con un ruido. El ruido se genera con la función para generar un arreglo de datos aleatorios con una distribucion normal.\n",
        "\n",
        "La función normal de *numpy.random* (Numpy, 2024) acepta como parámetros:\n",
        "*   **loc:** La media central de la distribución.\n",
        "*   **scale:** La desviación estándar de la distribución.\n",
        "*   **size:** La forma de salida. Si una forma es dada, por ejemplo, (m, n, k), entonces se dibujan m\\*n\\*k muestras."
      ],
      "metadata": {
        "id": "CNsD3wmvdLX-"
      }
    },
    {
      "cell_type": "code",
      "source": [
        "# 2. Generate synthetic data\n",
        "x = np.arange(0,100,1)\n",
        "noise_mean, noise_std = 0, 5\n",
        "true_coeffs = [1, 3]\n",
        "y = true_coeffs[1]*x + true_coeffs[0] + np.random.normal(loc=noise_mean, scale=noise_std, size=len(x))"
      ],
      "metadata": {
        "id": "FSStranhdJ_S"
      },
      "execution_count": null,
      "outputs": []
    },
    {
      "cell_type": "markdown",
      "source": [
        "Aquí hacemos uso de las funcionalidades de la librería matplotlib para visualizar el resultado de los datos generados. Es una buena práctica visualizar un dataset antes de procesarlo para reconocer los procesos que se requieren y las tendencias mas notorias, para así saber qué tipo de regresión o estructura utilizar. En este caso es una tendencia lineal.\n",
        "\n",
        "Se utiliza un scatter plot y se muestra la fórmula utilizada para los datos.\n",
        "\n",
        "En el código, primero definimos una \"figura\", la cual será el contenedor de nivel superior para todos los elementos de la gráfica, definiéndolo con un tamaño de 10*7 (Matplotlib, 2024). Luego generamos un gráfico de dispersión con los arreglos *x* e *y* de Numpy como ejes y agregamos una etiqueta para los datos. Finalmente lo que hacemos es establecer una etiqueta tanto para el eje x y para el eje y. Como título ponemos la ecuación lineal configurada anteriormente, usando una combinación de formato matemático LaTex."
      ],
      "metadata": {
        "id": "u9X-mGmBdL2W"
      }
    },
    {
      "cell_type": "code",
      "execution_count": null,
      "metadata": {
        "colab": {
          "base_uri": "https://localhost:8080/",
          "height": 666
        },
        "id": "5PH8pjkzCxYa",
        "outputId": "f31ea69a-8080-4faf-d60b-b1d2ca2c6165"
      },
      "outputs": [
        {
          "output_type": "display_data",
          "data": {
            "text/plain": [
              "<Figure size 1000x700 with 1 Axes>"
            ],
            "image/png": "[encoded data removed]"
          },
          "metadata": {}
        }
      ],
      "source": [
        "# 3. Visualise the generated synthetic dataset\n",
        "plt.figure(figsize=(10,7))\n",
        "plt.scatter(x, y, label='Synthetic dataset')\n",
        "plt.xlabel(r\"$x$\", fontsize=20)\n",
        "plt.ylabel(\"$f_{\\mathbf{w}}(x)$\", fontsize=20)\n",
        "plt.title(rf\"$f_{{\\mathbf{{w}}}}(x) = {true_coeffs[1]} x + {true_coeffs[0]} + \\epsilon$, where $\\epsilon \\sim \\mathcal{{N}}(\\mu=0, \\sigma={noise_std})$\", fontsize=20)\n",
        "plt.legend()\n",
        "plt.show()\n"
      ]
    },
    {
      "cell_type": "markdown",
      "source": [
        "Se utiliza la función *train_test_split* de Scikit-learn para dividir los datos de \"x\" e \"y\" de forma aleatoria. Se establece que el 20% de los datos será para pruebas (test) y el 80% restante para entrenamiento (train). También se utiliza un parámetro llamado *random_state*, que funciona como una semilla para asegurar que la división aleatoria sea la misma cada vez que se ejecute el código.\n",
        "\n",
        "Esto se hace ya que si se revisa con los mismos datos que se entrena no se puede evaluar de verdad, es como si te pusieran un examen pero ya sabes las preguntas.\n",
        "\n",
        "La función *train_test_split* (Scikit Learn, 2025) utiliza los siguientes parámetros:\n",
        "*   **arrays:** Una secuencia de indexables con la misma longitud (listas, arreglos de numpy, matrices, dataframes de pandas)\n",
        "*   **test_size:** Número entre 0.0 y 1.0 que representa la proporción del dataset a incluir en la división de prueba.\n",
        "*   **train_size:** Número entre 0.0 y 1.0 que representa la proporción del dataset a incluir en la división de entrenamiento.\n",
        "*   **random_state:** Número que controla la mezcla de los datos antes de aplicar la división. Ayuda a obtener un resultado reproducible.\n",
        "*   **shuffle:** Valor booleano que establece si se mezclan los datos antes de dividirlos.\n",
        "*   **stratify:** Parámetro relacionado a los arreglos, si se proporciona los datos se dividen de forma estratificada.\n"
      ],
      "metadata": {
        "id": "iAzGG1Dddn5I"
      }
    },
    {
      "cell_type": "code",
      "source": [
        "# 4. Split the data into training and testing sets using train_test_split\n",
        "x_train, x_test, y_train, y_test = train_test_split(x, y, test_size=0.2, random_state=42, shuffle=True)"
      ],
      "metadata": {
        "id": "55AnBfi9dMrf"
      },
      "execution_count": null,
      "outputs": []
    },
    {
      "cell_type": "markdown",
      "source": [
        "Se realiza nuevamente una visualización. Son los mismos datos que antes, pero ahora se observa la división *train_test*. Esto permite verificar fácilmente que efectivamente existe una división 80-20 y confirmar que dicha división no genera un desequilibrio o bias. Por ejemplo si se hubiera dividido como x_test = x[0:19], y x_train = x[20:100], se hace la misma proporción pero con peor distribución."
      ],
      "metadata": {
        "id": "xNxjFxsndoJ0"
      }
    },
    {
      "cell_type": "code",
      "source": [
        "# 5. Visualise the generated train and test synthetic dat sets\n",
        "plt.figure(figsize=(10,7))\n",
        "plt.scatter(x, y, label='Testing dataset')\n",
        "plt.scatter(x_train, y_train, label='Training dataset', color=[1,0,0])\n",
        "plt.xlabel(r\"$x$\", fontsize=20)\n",
        "plt.ylabel(\"$f_{\\mathbf{w}}(x)$\", fontsize=20)\n",
        "plt.title(rf\"$f_{{\\mathbf{{w}}}}(x) = {true_coeffs[1]} x + {true_coeffs[0]} + \\epsilon$, where $\\epsilon \\sim \\mathcal{{N}}(\\mu=0, \\sigma={noise_std})$\", fontsize=20)\n",
        "plt.legend()\n",
        "plt.show()"
      ],
      "metadata": {
        "colab": {
          "base_uri": "https://localhost:8080/",
          "height": 666
        },
        "id": "cYQO6ec_dQ2k",
        "outputId": "83f7217f-5bb3-4124-abae-b0d32b566638"
      },
      "execution_count": null,
      "outputs": [
        {
          "output_type": "display_data",
          "data": {
            "text/plain": [
              "<Figure size 1000x700 with 1 Axes>"
            ],
            "image/png": "[encoded data removed]"
          },
          "metadata": {}
        }
      ]
    },
    {
      "cell_type": "markdown",
      "source": [
        "Aqui se construye el modelo. Es una sola neurona con multiples entradas de una sola variable de entrada, por eso se deja vacío el segundo espacio de *shape*. Se muestra un resumen del modelo, ahí también se muestran los parámetros a determinar con el entrenamiento.\n",
        "\n",
        "La funcionalidad *tf.keras.Sequential* (Tensorflow, 2024) nos permite agrupar una pila lineal de capas para definir un modelo específico. Dentro del modelo podemos definir cualesquiera cantidad de capas y de diferentes tipos. En este caso estamos agregando una capa de entrada y una capa densa completamente conectada.\n",
        "\n",
        "La capa de entrada acepta como parámetros:\n",
        "*   **shape:** Una tupla de formas, sin incluir el tamaño del lote, indica que la entrada esperada será lotes de vectores de n dimensiones.\n",
        "*   **batch_size:** El tamaño del lote.\n",
        "*   **dtype:** String que indica el tipo de datos esperados para la entrada.\n",
        "*   **sparse:** Un booleano que especifica si la entrada serán tensores dispersos.\n",
        "*   **name:** String para el nombre de la capa.\n",
        "*   **tensor:** Tensor existente opcional, para envolver en la capa de entrada.\n",
        "\n",
        "La capa densa completamente conectada acepta como parámetros:\n",
        "*   **units:** Número entero positivo indicando la dimensionalidad del espacio de salida.\n",
        "*   **activation:** Función de activación a usar.\n",
        "*   **use_bias:** Booleano que indica si la capa usa un vector de sesgo.\n",
        "*   **kernel_initializer:** Inicializador de la matriz de pesos del kernel.\n",
        "*   **bias_initializer:** Inicializador del vector de sesgo.\n",
        "*   **kernel_regularizer:** Función de regularización aplicada a la matriz de pesos del kernel.\n",
        "*   **bias_regularizer:** Función de regularización aplicada al vector de sesgo.\n",
        "*   **activity_regularizer:** Función de regularización aplicada a la salida de la capa.\n",
        "*   **kernel_constraint:** Función de restricción aplicada a la matriz de pesos del kernel.\n",
        "*   **bias_constraint:** Función de restricción aplicada al vector de sesgo.\n",
        "*   **lora_rank:** Entero opcional. Si se establece, el paso hacia adelante de la capa implementará LoRA (Low-Rank-Adaptation), lo cual puede ser útil para reducir el coste computacional del ajuste fino de capas densas de gran tamaño.\n",
        "\n",
        "Los tensores son arreglos multi dimensionales con un tipo uniforme (llamado *dtype*). Son similares a los arreglos de numpy. Todos los tensores son inmutables como los números y cadenas de Python; no podemos actualizar el contenido de un tensor, sólo crear uno nuevo. Esta inmutabilidad ayuda a mantener la coherencia durante procesos de entrenamiento y ejecución de modelos (Tensorflow, 2024).\n",
        "\n",
        "Existen diferentes tipos de capas de redes neuronales. En este caso se usa dos tipos de capas: una capa de entrada y una capa densamente conectada. Una capa de entrada define la forma de los datos de entrada, en este caso, un sólo valor numérico. Por otro lado, una capa densamente conectada es aquella que tiene todas las neuronas conectadas con todos los elementos anteriores (Navarro, S., 2024)."
      ],
      "metadata": {
        "id": "4mLIc18TdooW"
      }
    },
    {
      "cell_type": "code",
      "source": [
        "# 6. Build the linear regression model using a multiple-input single neuron\n",
        "model = tf.keras.Sequential([\n",
        "      tf.keras.layers.Input(shape=(1,)),\n",
        "      tf.keras.layers.Dense(1)\n",
        "    ])\n",
        "print(model.summary())"
      ],
      "metadata": {
        "colab": {
          "base_uri": "https://localhost:8080/",
          "height": 182
        },
        "id": "GAwsf7NQdRk4",
        "outputId": "a5c89699-8e32-45e2-c405-60bf3bbc0754"
      },
      "execution_count": null,
      "outputs": [
        {
          "output_type": "display_data",
          "data": {
            "text/plain": [
              "\u001b[1mModel: \"sequential\"\u001b[0m\n"
            ],
            "text/html": [
              "<pre style=\"white-space:pre;overflow-x:auto;line-height:normal;font-family:Menlo,'DejaVu Sans Mono',consolas,'Courier New',monospace\"><span style=\"font-weight: bold\">Model: \"sequential\"</span>\n",
              "</pre>\n"
            ]
          },
          "metadata": {}
        },
        {
          "output_type": "display_data",
          "data": {
            "text/plain": [
              "┏━━━━━━━━━━━━━━━━━━━━━━━━━━━━━━━━━━━━━━┳━━━━━━━━━━━━━━━━━━━━━━━━━━━━━┳━━━━━━━━━━━━━━━━━┓\n",
              "┃\u001b[1m \u001b[0m\u001b[1mLayer (type)                        \u001b[0m\u001b[1m \u001b[0m┃\u001b[1m \u001b[0m\u001b[1mOutput Shape               \u001b[0m\u001b[1m \u001b[0m┃\u001b[1m \u001b[0m\u001b[1m        Param #\u001b[0m\u001b[1m \u001b[0m┃\n",
              "┡━━━━━━━━━━━━━━━━━━━━━━━━━━━━━━━━━━━━━━╇━━━━━━━━━━━━━━━━━━━━━━━━━━━━━╇━━━━━━━━━━━━━━━━━┩\n",
              "│ dense (\u001b[38;5;33mDense\u001b[0m)                        │ (\u001b[38;5;45mNone\u001b[0m, \u001b[38;5;34m1\u001b[0m)                   │               \u001b[38;5;34m2\u001b[0m │\n",
              "└──────────────────────────────────────┴─────────────────────────────┴─────────────────┘\n"
            ],
            "text/html": [
              "<pre style=\"white-space:pre;overflow-x:auto;line-height:normal;font-family:Menlo,'DejaVu Sans Mono',consolas,'Courier New',monospace\">┏━━━━━━━━━━━━━━━━━━━━━━━━━━━━━━━━━━━━━━┳━━━━━━━━━━━━━━━━━━━━━━━━━━━━━┳━━━━━━━━━━━━━━━━━┓\n",
              "┃<span style=\"font-weight: bold\"> Layer (type)                         </span>┃<span style=\"font-weight: bold\"> Output Shape                </span>┃<span style=\"font-weight: bold\">         Param # </span>┃\n",
              "┡━━━━━━━━━━━━━━━━━━━━━━━━━━━━━━━━━━━━━━╇━━━━━━━━━━━━━━━━━━━━━━━━━━━━━╇━━━━━━━━━━━━━━━━━┩\n",
              "│ dense (<span style=\"color: #0087ff; text-decoration-color: #0087ff\">Dense</span>)                        │ (<span style=\"color: #00d7ff; text-decoration-color: #00d7ff\">None</span>, <span style=\"color: #00af00; text-decoration-color: #00af00\">1</span>)                   │               <span style=\"color: #00af00; text-decoration-color: #00af00\">2</span> │\n",
              "└──────────────────────────────────────┴─────────────────────────────┴─────────────────┘\n",
              "</pre>\n"
            ]
          },
          "metadata": {}
        },
        {
          "output_type": "display_data",
          "data": {
            "text/plain": [
              "\u001b[1m Total params: \u001b[0m\u001b[38;5;34m2\u001b[0m (8.00 B)\n"
            ],
            "text/html": [
              "<pre style=\"white-space:pre;overflow-x:auto;line-height:normal;font-family:Menlo,'DejaVu Sans Mono',consolas,'Courier New',monospace\"><span style=\"font-weight: bold\"> Total params: </span><span style=\"color: #00af00; text-decoration-color: #00af00\">2</span> (8.00 B)\n",
              "</pre>\n"
            ]
          },
          "metadata": {}
        },
        {
          "output_type": "display_data",
          "data": {
            "text/plain": [
              "\u001b[1m Trainable params: \u001b[0m\u001b[38;5;34m2\u001b[0m (8.00 B)\n"
            ],
            "text/html": [
              "<pre style=\"white-space:pre;overflow-x:auto;line-height:normal;font-family:Menlo,'DejaVu Sans Mono',consolas,'Courier New',monospace\"><span style=\"font-weight: bold\"> Trainable params: </span><span style=\"color: #00af00; text-decoration-color: #00af00\">2</span> (8.00 B)\n",
              "</pre>\n"
            ]
          },
          "metadata": {}
        },
        {
          "output_type": "display_data",
          "data": {
            "text/plain": [
              "\u001b[1m Non-trainable params: \u001b[0m\u001b[38;5;34m0\u001b[0m (0.00 B)\n"
            ],
            "text/html": [
              "<pre style=\"white-space:pre;overflow-x:auto;line-height:normal;font-family:Menlo,'DejaVu Sans Mono',consolas,'Courier New',monospace\"><span style=\"font-weight: bold\"> Non-trainable params: </span><span style=\"color: #00af00; text-decoration-color: #00af00\">0</span> (0.00 B)\n",
              "</pre>\n"
            ]
          },
          "metadata": {}
        },
        {
          "output_type": "stream",
          "name": "stdout",
          "text": [
            "None\n"
          ]
        }
      ]
    },
    {
      "cell_type": "markdown",
      "source": [
        "Aqui se compila el modelo, primero definiendo el optimizador *Adam*. Se modificó el parámetro de *learning_rate* que define cuánto cambian los valores en cada iteración del entrenamiento. Para determinar el parámetro a minimizar se establece la función de pérdida como la *mean-square-error*, la suma de los cuadrados de las distancias entre los puntos reales y los predichos.\n",
        "\n",
        "Tensorflow-Keras tiene una gran variedad de optimizadores, entre los que se incluyen Adadelta, Adafactor, Adagrad, Adam, AdamW, Adamax, Ftrl, Lion, Nadam, RMSprop y SGD. Todos estos algoritmos utilizan diferentes parámetros, pero coinciden en que es posible ajustar el *learning_rate* según lo que necesitemos.\n",
        "\n",
        "El algoritmo Adam (Adaptative Moment Estimation) es uno de los optimizadores más utilizados en el aprendizaje automático debido a múltiples ventajas: su velocidad y eficiencia, manejo de gradientes dispersos (que ocurren en conjuntos de datos en los que las características aparecen con poca frecuencia), ritmos de aprendizaje adaptables y la necesidad mínima de ajustar los hiperparámetros, lo que simplifica el proceso de desarrollo del modelo (Wei D., 2024)."
      ],
      "metadata": {
        "id": "b5qw6A_WdpC3"
      }
    },
    {
      "cell_type": "code",
      "source": [
        "# 7. Compile the model\n",
        "opt = tf.keras.optimizers.Adam(learning_rate=0.2)\n",
        "model.compile(optimizer=opt, loss='mse')"
      ],
      "metadata": {
        "id": "lPe6a0__dSeP"
      },
      "execution_count": null,
      "outputs": []
    },
    {
      "cell_type": "markdown",
      "source": [
        "Se establece el *early_stopping*, el cual frena el entrenamiento si el parámetro de monitoreo (en este caso la pérdida de validación), no cambia por lo menos por 0.001 por 20 iteraciones. Cuando lo frena regresa los parámetros a los de mejor rendimiento.\n",
        "\n",
        "La función de **EarlyStopping** de Tensorflow-Keras (Tensorflow, 2024) utiliza como parámetros:\n",
        "*   **monitor:** Cantidad a ser monitoreada. Valor por defecto: \"val_loss\".\n",
        "*   **min_delta:** Cambio mínimo en la cantidad monitoreada para calificar como una mejora.\n",
        "*   **patience:** Número de épocas sin mejorar tras las cuales se detendrá el entrenamiento.\n",
        "*   **verbose:** Entero entre 0 y 1. El modo 0 es silencioso, y el modo 1 muestra mensajes cuando la llamada de retorno realiza una acción.\n",
        "*   **mode:** En modo \"min\", el entrenamiento parará cuando la cantidad monitoreada haya parado de disminuir. En modo \"max\" el entrenamiento parará cuando la cantidad monitoreada ha parado de incrementar. En modo \"auto\", la dirección se deduce automáticamente del nombre de la cantidad supervisada.\n",
        "*   **baseline:** Valor de referencia de la cantidad controlada.\n",
        "*   **restore_best_weights:** Booleano que indica si se restauran los pesos del modelo a partir de la época con el mejor valor de la cantidad controlada.\n",
        "*   **start_from_epoch:** Número de épocas a esperar antes de comenzar a monitorear mejoras.\n",
        "\n"
      ],
      "metadata": {
        "id": "VlWIxxK9dpaj"
      }
    },
    {
      "cell_type": "code",
      "execution_count": null,
      "metadata": {
        "id": "crH9j782CxNv"
      },
      "outputs": [],
      "source": [
        "# 8. Early stopping\n",
        "early_stopping = tf.keras.callbacks.EarlyStopping(\n",
        "    monitor='val_loss',\n",
        "    min_delta=0.01,\n",
        "    patience=6,\n",
        "    restore_best_weights=True\n",
        ")"
      ]
    },
    {
      "cell_type": "markdown",
      "source": [
        "Se entrena el modelo con los siguientes parámetros:\n",
        "* **x:** los datos de entrada.\n",
        "* **y:** los datos de salida.\n",
        "* **epochs:** se establece un máximo de épocas de 3000.\n",
        "* **batch_size:** calcula los parámetros utilizando bloques de 20 datos.\n",
        "* **validation_split:** toma un set del 10% de los datos para evaluar el rendimiento del modelo en cada iteración.\n",
        "* **verbose:** sólo sirve para el formato de la información que da durante el entrenamiento\n",
        "* **callback:** parámetro como *early_stopping*, explicado en la sección anterior\n",
        "\n",
        "Se mide el tiempo de entrenamiento con las funciones de *time*, tomando la diferencia entre el tiempo actual antes del entrenamiento y posterior a este."
      ],
      "metadata": {
        "id": "XmqPo3p8dqJg"
      }
    },
    {
      "cell_type": "code",
      "execution_count": null,
      "metadata": {
        "colab": {
          "base_uri": "https://localhost:8080/"
        },
        "id": "B0nYo-ttC1Nk",
        "outputId": "36ca15fa-cd8b-49ed-c348-c3e66e02f5da"
      },
      "outputs": [
        {
          "output_type": "stream",
          "name": "stdout",
          "text": [
            "Epoch 1/100\n",
            "\u001b[1m4/4\u001b[0m \u001b[32m━━━━━━━━━━━━━━━━━━━━\u001b[0m\u001b[37m\u001b[0m \u001b[1m1s\u001b[0m 121ms/step - loss: 53.3337 - val_loss: 24.7480\n",
            "Epoch 2/100\n",
            "\u001b[1m4/4\u001b[0m \u001b[32m━━━━━━━━━━━━━━━━━━━━\u001b[0m\u001b[37m\u001b[0m \u001b[1m0s\u001b[0m 56ms/step - loss: 55.7346 - val_loss: 66.4595\n",
            "Epoch 3/100\n",
            "\u001b[1m4/4\u001b[0m \u001b[32m━━━━━━━━━━━━━━━━━━━━\u001b[0m\u001b[37m\u001b[0m \u001b[1m0s\u001b[0m 50ms/step - loss: 44.4071 - val_loss: 3.2166\n",
            "Epoch 4/100\n",
            "\u001b[1m4/4\u001b[0m \u001b[32m━━━━━━━━━━━━━━━━━━━━\u001b[0m\u001b[37m\u001b[0m \u001b[1m0s\u001b[0m 34ms/step - loss: 32.2804 - val_loss: 9.3838\n",
            "Epoch 5/100\n",
            "\u001b[1m4/4\u001b[0m \u001b[32m━━━━━━━━━━━━━━━━━━━━\u001b[0m\u001b[37m\u001b[0m \u001b[1m0s\u001b[0m 41ms/step - loss: 32.7591 - val_loss: 17.0879\n",
            "Epoch 6/100\n",
            "\u001b[1m4/4\u001b[0m \u001b[32m━━━━━━━━━━━━━━━━━━━━\u001b[0m\u001b[37m\u001b[0m \u001b[1m0s\u001b[0m 46ms/step - loss: 28.3568 - val_loss: 4.1715\n",
            "Epoch 7/100\n",
            "\u001b[1m4/4\u001b[0m \u001b[32m━━━━━━━━━━━━━━━━━━━━\u001b[0m\u001b[37m\u001b[0m \u001b[1m0s\u001b[0m 46ms/step - loss: 31.1184 - val_loss: 20.1832\n",
            "Epoch 8/100\n",
            "\u001b[1m4/4\u001b[0m \u001b[32m━━━━━━━━━━━━━━━━━━━━\u001b[0m\u001b[37m\u001b[0m \u001b[1m0s\u001b[0m 36ms/step - loss: 28.8166 - val_loss: 5.5648\n",
            "Epoch 9/100\n",
            "\u001b[1m4/4\u001b[0m \u001b[32m━━━━━━━━━━━━━━━━━━━━\u001b[0m\u001b[37m\u001b[0m \u001b[1m0s\u001b[0m 48ms/step - loss: 33.8724 - val_loss: 11.9386\n",
            "\n",
            "Elapsed time: 2.789667844772339 sec\n"
          ]
        }
      ],
      "source": [
        "# 9. Train the model\n",
        "start_time = time.time()\n",
        "model.fit(x_train, y_train, epochs=3000, batch_size=20, validation_split=0.10, verbose=1, callbacks=[early_stopping])\n",
        "print(f\"\\nElapsed time: {time.time() - start_time} sec\")\n"
      ]
    },
    {
      "cell_type": "markdown",
      "source": [
        "Utilizamos los sets de prueba divididos previamente para evaluar el rendimiento del modelo con la función evaluate con los siguientes parámetros:\n",
        "* **x:** los datos de prueba de entrada, *x_test*.\n",
        "* **y:** los datos de prueba de salida, *y_test*.\n",
        "\n",
        "Ya que se había establecido el *mse* como la función de pérdida, esta es la forma del resultado."
      ],
      "metadata": {
        "id": "IAYKzzcGdque"
      }
    },
    {
      "cell_type": "code",
      "source": [
        "# 10. Evaluate the model\n",
        "loss = model.evaluate(x_test, y_test)\n",
        "print(f'\\nTest Loss: {loss}')"
      ],
      "metadata": {
        "colab": {
          "base_uri": "https://localhost:8080/"
        },
        "id": "qo8aRwD3deCZ",
        "outputId": "706467c3-56b9-4ffc-fa17-23281d2f9969"
      },
      "execution_count": null,
      "outputs": [
        {
          "output_type": "stream",
          "name": "stdout",
          "text": [
            "\u001b[1m1/1\u001b[0m \u001b[32m━━━━━━━━━━━━━━━━━━━━\u001b[0m\u001b[37m\u001b[0m \u001b[1m0s\u001b[0m 60ms/step - loss: 28.9366\n",
            "\n",
            "Test Loss: 28.936573028564453\n"
          ]
        }
      ]
    },
    {
      "cell_type": "markdown",
      "source": [
        "Se obtienen los pesos de la primera capa del modelo haciendo uso de ciertas funciones de la librería Keras de Tensorflow:\n",
        "\n",
        "* model.layers[0]: accede a la primera capa de la red neuronal.\n",
        "* get_weights(): recupera los pesos y sesgos de la capa en forma de una lista de matrices NumPy. La primera matriz representa los pesos sinápticos y la segunda los términos de sesgo (Keras, 2023).\n",
        "\n",
        " En base a la base de datos generada sus valores deberían ser cercanos a 3 y 1."
      ],
      "metadata": {
        "id": "UffE49vjdrSY"
      }
    },
    {
      "cell_type": "code",
      "source": [
        "# 10. Print the weights of the trained model\n",
        "weights = model.layers[0].get_weights()\n",
        "print(f\"Weights [w1]: {weights[0]}\")\n",
        "print(f\"Bias [w0]: {weights[1]}\")"
      ],
      "metadata": {
        "colab": {
          "base_uri": "https://localhost:8080/"
        },
        "id": "BMtN8nY3dfMb",
        "outputId": "ef20e06c-70fc-4610-8a61-28918ba03e12"
      },
      "execution_count": null,
      "outputs": [
        {
          "output_type": "stream",
          "name": "stdout",
          "text": [
            "Weights [w1]: [[3.0043178]]\n",
            "Bias [w0]: [2.975074]\n"
          ]
        }
      ]
    },
    {
      "cell_type": "markdown",
      "source": [
        "Como se hizo dentro del evaluate aquí se ingresan los datos de *x_test* en el modelo y se guardan los resultados en *y_pred_test*.\n",
        "\n",
        "La función *predict* genera predicciones de salida para las muestras de entrada. Acepta como parámetros:\n",
        "*   **x:** Datos de entrada.\n",
        "*   **batch_size:** Número de muestras por lote de cálculo.\n",
        "*   **verbose:** Controla la cantidad de información de salida a mostrar\n",
        "*   **steps:** Total de pasos (lotes de muestras) para dibujar antes finalizar la ronda de predicción.\n",
        "*   **callbacks:** Lista de callbacks a aplicar durante la predicción.\n",
        "\n",
        "Un callback es un objeto que realiza ciertas acciones en varias etapas del entrenamiento (Keras, 2024).\n",
        "\n"
      ],
      "metadata": {
        "id": "nGQPqhnVdrvE"
      }
    },
    {
      "cell_type": "code",
      "source": [
        "# 11. Make predictions\n",
        "y_pred_test = model.predict(x_test)"
      ],
      "metadata": {
        "colab": {
          "base_uri": "https://localhost:8080/"
        },
        "id": "koMdPafEdfBy",
        "outputId": "c84e546a-5781-4da1-cff3-f3965fdb2a19"
      },
      "execution_count": null,
      "outputs": [
        {
          "output_type": "stream",
          "name": "stdout",
          "text": [
            "\u001b[1m1/1\u001b[0m \u001b[32m━━━━━━━━━━━━━━━━━━━━\u001b[0m\u001b[37m\u001b[0m \u001b[1m0s\u001b[0m 57ms/step\n"
          ]
        }
      ]
    },
    {
      "cell_type": "markdown",
      "source": [
        "Se grafican ahora los datos de *train* como puntos en azul igual que antes, pero ahora se muestra el resultado del modelo con los datos de *test*.\n",
        "\n",
        "De nuevo es una buena práctica visualizar el resultado ya que es más fácil y rápido de comprender e interpretar el rendimiento. En este caso podemos observar que se genera satisfactoriamente la línea recta esperada que se ajusta a los datos, reduciendo el error de predicción y confirmando la efectividad del modelo entrenado."
      ],
      "metadata": {
        "id": "UPfzL1hndsB0"
      }
    },
    {
      "cell_type": "code",
      "execution_count": null,
      "metadata": {
        "colab": {
          "base_uri": "https://localhost:8080/",
          "height": 633
        },
        "id": "NOraeEc-C4hI",
        "outputId": "272eb543-5c37-4bd5-c4f6-f94b528529c3"
      },
      "outputs": [
        {
          "output_type": "display_data",
          "data": {
            "text/plain": [
              "<Figure size 1000x700 with 1 Axes>"
            ],
            "image/png": "[encoded data removed]"
          },
          "metadata": {}
        }
      ],
      "source": [
        "# 12. Plot the results\n",
        "plt.figure(figsize=(10, 7))\n",
        "plt.scatter(x_train, y_train, label='Training data')\n",
        "plt.plot(x_test, y_pred_test, label='Model', linewidth=3, color=[1,0,0])\n",
        "plt.xlabel(r'$x$', fontsize=20)\n",
        "plt.ylabel(\"$\\hat{f}_{\\mathbf{w}}(x)$\", fontsize=20)\n",
        "plt.legend()\n",
        "plt.show()"
      ]
    },
    {
      "cell_type": "markdown",
      "source": [
        "## Conclusiones personales"
      ],
      "metadata": {
        "id": "6dm2OmGyVv_C"
      }
    },
    {
      "cell_type": "markdown",
      "source": [
        "**Max Kevin Solís Meester**\n",
        "\n",
        "El análisis de un sólo perceptrón como punto de partida para comprender las redes neuronales es una estrategia altamente efectiva, ya que permite descomponer y examinar los principios fundamentales de esta tecnología. Al centrarse en su estructura básica, se pueden visualizar con claridad tanto sus capacidades como sus limitaciones, lo que proporciona un marco de referencia sólido para la comprensión de arquitecturas más complejas. Una de las limitaciones más evidentes de un perceptrón simple es su dependencia de múltiples iteraciones de entrenamiento para ajustar sus parámetros, en contraste con métodos analíticos como la regresión lineal, los cuales pueden ofrecer soluciones exactas con menor costo computacional. Sin embargo, la gran ventaja de los perceptrones y, en general, de las redes neuronales, radica en su flexibilidad y capacidad de adaptación para modelar relaciones complejas en los datos. El verdadero potencial de los modelos neuronales se manifiesta cuando se combinan múltiples perceptrones en diversas configuraciones y estructuras, ajustando parámetros y aplicando estrategias de optimización que permiten mejorar su desempeño.\n",
        "\n",
        "La experimentación con hiperparámetros es una herramienta esencial en este proceso, ya que puede reducir significativamente el tiempo de entrenamiento sin comprometer la calidad de los resultados. En este sentido, uno de los hallazgos más relevantes fue la optimización del número de épocas necesarias para alcanzar una convergencia efectiva. Se logró reducir de 3000 épocas a menos de 30 simplemente ajustando algunos hiperparámetros clave, lo que demuestra la importancia de una afinada calibración del modelo.\n",
        "\n",
        "Entre las técnicas más útiles en la optimización del entrenamiento se encuentra el ajuste del mecanismo de early stopping, que previene el sobreentrenamiento al detener el proceso cuando la mejora del modelo deja de ser significativa. En particular, se observó que al reducir la paciencia y aumentar el parámetro min_delta, se eliminaban iteraciones innecesarias, aunque el progreso por época seguía siendo relativamente lento. Para contrarrestar este efecto, se incrementó la tasa de aprendizaje (learning rate), lo que permitió acelerar la convergencia del modelo y, combinado con early stopping, reducir el tiempo total de entrenamiento sin perder precisión en las predicciones. Este tipo de estrategias resultan especialmente valiosas en escenarios donde el tiempo de entrenamiento es un cuello de botella en el desarrollo de proyectos de investigación o aplicaciones prácticas.\n",
        "\n",
        "El ejercicio de ajuste y optimización de hiperparámetros no solo proporciona beneficios en términos de eficiencia computacional, sino que también brinda una comprensión más profunda del impacto de cada uno de estos parámetros en el comportamiento del modelo. A través de la experimentación sistemática, es posible identificar combinaciones que maximizan el rendimiento sin incurrir en costos computacionales innecesarios. Este conocimiento es fundamental para el diseño de redes neuronales más avanzadas, en las que la selección adecuada de hiperparámetros puede marcar la diferencia entre un modelo funcional y uno que no logra una generalización efectiva, o entre uno que tome 2 horas y otro que tome 2 minutos.\n",
        "\n",
        "En conclusión, comenzar el estudio de las redes neuronales desde un perceptrón simple permite desarrollar una base conceptual sólida y facilita la exploración de estrategias para mejorar la eficiencia del entrenamiento. La combinación de técnicas de optimización, como el ajuste del early stopping y el incremento del learning rate, demuestra ser una metodología efectiva para reducir el tiempo de cómputo sin sacrificar precisión. Estas estrategias son fundamentales en la implementación de modelos más complejos, permitiendo abordar problemas que no pueden resolverse de manera analítica o cuyo tratamiento sería ineficiente mediante métodos tradicionales."
      ],
      "metadata": {
        "id": "6kiB6cJgV0PT"
      }
    },
    {
      "cell_type": "markdown",
      "source": [
        "**Víctor Yahir Ramírez Martínez**\n",
        "\n",
        "En este notebook utilizamos algunas de las librerías más populares para el aprendizaje automático en Python: NumPy para cálculos numéricos, TensorFlow para construcción de modelos de machine learning, Matplotlib para visualización de datos, y Scikit-Learn para preprocesamiento y evaluación de modelos.\n",
        "\n",
        "Generamos una serie de datos sintéticos que simulan el comportamiento de una función lineal, añadiendo ruido aleatorio mediante una distribución normal con media 0 y desviación estándar de 5. Esto nos permite crear un conjunto de datos efectivo para entrenar y evaluar un modelo de machine learning.\n",
        "\n",
        "Desarrollamos un modelo de red neuronal simple para realizar una regresión lineal usando TensorFlow-Keras. Exploramos la arquitectura de redes neuronales, utilizando una capa de entrada para recibir los datos y una capa densa completamente conectada, donde cada neurona se conecta con todas las neuronas de la capa anterior.\n",
        "\n",
        "Durante el entrenamiento del modelo, utilizamos el algoritmo optimizador Adam, el cual es conocido por su eficiencia y rapidez en el proceso de desarrollo de modelos de machine learning. Experimentamos con diferentes valores de learning rate, observando que entre más alta la tasa de aprendizaje, se reducen el número de épocas necesarias para entrenar el modelo, aunque con la precaución de no exceder un valor que pueda provocar la divergencia del modelo.\n",
        "\n",
        "Seleccionamos el error cuadrático medio (Mean Squared Error) como función de pérdida para optimizar durante el entrenamiento, lo que nos permite evaluar la precisión de las predicciones del modelo. Así mismo, implementamos una estrategia de early stopping para detener el entrenamiento cuando el rendimiento del modelo deja de mejorar por cierta cantidad después de un número determinado de épocas, optimizando así los recursos computacionales.\n",
        "\n",
        "Finalmente, evaluamos el desempeño del modelo comparando los pesos calculados para el intercepto y la pendiente con los coeficientes originales de la función lineal que generó los datos sintéticos. Observamos que el error cuadrático medio entre las predicciones y los valores reales era aproximadamente 28.12. Mediante una gráfica, confirmamos que  la distribución y comportamiento de los datos predichos es muy similar a los datos originales.\n",
        "\n",
        "En conclusión, esta actividad nos permitió comprender los fundamentos del entrenamiento de redes neuronales para regresión lineal, observando la importancia de la selección de hiperparámetros, las estrategias de optimización y entrenamiento, así como la evaluación del modelo.\n"
      ],
      "metadata": {
        "id": "MT9FNYOGVyTq"
      }
    },
    {
      "cell_type": "markdown",
      "source": [
        "## Referencias"
      ],
      "metadata": {
        "id": "RsOLtSUTV2kC"
      }
    },
    {
      "cell_type": "markdown",
      "source": [
        "1.   GeeksforGeeks. (2024, December 5). Python random.seed( ) method. GeeksforGeeks. https://www.geeksforgeeks.org/random-seed-in-python/\n",
        "2.   Keras. (2025). Keras documentation: Callbacks API. https://keras.io/api/callbacks/\n",
        "3.   Matplotlib. (2024). Matplotlib 3.5.3 documentation. https://matplotlib.org/3.5.3/api/toolkits/axisartist.html\n",
        "4.   Navarro, S. (2024, November 14). Tipos de capas de red neuronal convolucional. KeepCoding Bootcamps. https://keepcoding.io/blog/tipos-capas-red-neuronal-convolucional/\n",
        "5.   NumPy. (2024). NumPy documentation. https://numpy.org/doc/stable/\n",
        "6.   Python.org. (2022). Python 3.13.1 Documentation. https://docs.python.org/3/\n",
        "7.   Scikit Learn. (2025). API reference. Scikit-learn. https://scikit-learn.org/stable/api/index.html#\n",
        "8.   Tensorflow. (2024). TensorFlow Core. TensorFlow Core. https://www.tensorflow.org/guide\n",
        "9.   Wei, D. (2024, January 30). Demystifying the Adam Optimizer in machine learning. Medium. https://medium.com/@weidagang/demystifying-the-adam-optimizer-in-machine-learning-4401d162cb9e\n",
        "\n"
      ],
      "metadata": {
        "id": "7SO2ZWugV5Nj"
      }
    },
    {
      "cell_type": "code",
      "source": [
        "!apt-get install texlive texlive-xetex texlive-latex-extra pandoc\n",
        "!pip install pypandoc"
      ],
      "metadata": {
        "colab": {
          "base_uri": "https://localhost:8080/"
        },
        "collapsed": true,
        "id": "qU1y1ZscXn2h",
        "outputId": "44ba32e1-7070-4534-fff4-8a2f112ff9b4"
      },
      "execution_count": null,
      "outputs": [
        {
          "output_type": "stream",
          "name": "stdout",
          "text": [
            "Reading package lists... Done\n",
            "Building dependency tree... Done\n",
            "Reading state information... Done\n",
            "pandoc is already the newest version (2.9.2.1-3ubuntu2).\n",
            "texlive is already the newest version (2021.20220204-1).\n",
            "texlive-latex-extra is already the newest version (2021.20220204-1).\n",
            "texlive-xetex is already the newest version (2021.20220204-1).\n",
            "0 upgraded, 0 newly installed, 0 to remove and 18 not upgraded.\n",
            "Requirement already satisfied: pypandoc in /usr/local/lib/python3.11/dist-packages (1.15)\n"
          ]
        }
      ]
    },
    {
      "cell_type": "code",
      "source": [
        "from google.colab import drive\n",
        "drive.mount('/content/drive')"
      ],
      "metadata": {
        "colab": {
          "base_uri": "https://localhost:8080/"
        },
        "collapsed": true,
        "id": "oJi5tfaXaTBC",
        "outputId": "58750242-6ae0-42a6-cd72-7faada86f407"
      },
      "execution_count": null,
      "outputs": [
        {
          "output_type": "stream",
          "name": "stdout",
          "text": [
            "Drive already mounted at /content/drive; to attempt to forcibly remount, call drive.mount(\"/content/drive\", force_remount=True).\n"
          ]
        }
      ]
    },
    {
      "cell_type": "code",
      "source": [
        "!jupyter nbconvert --to PDF \"simple-linear-regression.ipynb\""
      ],
      "metadata": {
        "colab": {
          "base_uri": "https://localhost:8080/"
        },
        "id": "JiHFELikYQja",
        "outputId": "25192200-c15b-4e39-aff6-1f58d15d4cab"
      },
      "execution_count": null,
      "outputs": [
        {
          "output_type": "stream",
          "name": "stdout",
          "text": [
            "[NbConvertApp] WARNING | pattern 'simple-linear-regression.ipynb' matched no files\n",
            "This application is used to convert notebook files (*.ipynb)\n",
            "        to various other formats.\n",
            "\n",
            "        WARNING: THE COMMANDLINE INTERFACE MAY CHANGE IN FUTURE RELEASES.\n",
            "\n",
            "Options\n",
            "=======\n",
            "The options below are convenience aliases to configurable class-options,\n",
            "as listed in the \"Equivalent to\" description-line of the aliases.\n",
            "To see all configurable class-options for some <cmd>, use:\n",
            "    <cmd> --help-all\n",
            "\n",
            "--debug\n",
            "    set log level to logging.DEBUG (maximize logging output)\n",
            "    Equivalent to: [--Application.log_level=10]\n",
            "--show-config\n",
            "    Show the application's configuration (human-readable format)\n",
            "    Equivalent to: [--Application.show_config=True]\n",
            "--show-config-json\n",
            "    Show the application's configuration (json format)\n",
            "    Equivalent to: [--Application.show_config_json=True]\n",
            "--generate-config\n",
            "    generate default config file\n",
            "    Equivalent to: [--JupyterApp.generate_config=True]\n",
            "-y\n",
            "    Answer yes to any questions instead of prompting.\n",
            "    Equivalent to: [--JupyterApp.answer_yes=True]\n",
            "--execute\n",
            "    Execute the notebook prior to export.\n",
            "    Equivalent to: [--ExecutePreprocessor.enabled=True]\n",
            "--allow-errors\n",
            "    Continue notebook execution even if one of the cells throws an error and include the error message in the cell output (the default behaviour is to abort conversion). This flag is only relevant if '--execute' was specified, too.\n",
            "    Equivalent to: [--ExecutePreprocessor.allow_errors=True]\n",
            "--stdin\n",
            "    read a single notebook file from stdin. Write the resulting notebook with default basename 'notebook.*'\n",
            "    Equivalent to: [--NbConvertApp.from_stdin=True]\n",
            "--stdout\n",
            "    Write notebook output to stdout instead of files.\n",
            "    Equivalent to: [--NbConvertApp.writer_class=StdoutWriter]\n",
            "--inplace\n",
            "    Run nbconvert in place, overwriting the existing notebook (only\n",
            "            relevant when converting to notebook format)\n",
            "    Equivalent to: [--NbConvertApp.use_output_suffix=False --NbConvertApp.export_format=notebook --FilesWriter.build_directory=]\n",
            "--clear-output\n",
            "    Clear output of current file and save in place,\n",
            "            overwriting the existing notebook.\n",
            "    Equivalent to: [--NbConvertApp.use_output_suffix=False --NbConvertApp.export_format=notebook --FilesWriter.build_directory= --ClearOutputPreprocessor.enabled=True]\n",
            "--coalesce-streams\n",
            "    Coalesce consecutive stdout and stderr outputs into one stream (within each cell).\n",
            "    Equivalent to: [--NbConvertApp.use_output_suffix=False --NbConvertApp.export_format=notebook --FilesWriter.build_directory= --CoalesceStreamsPreprocessor.enabled=True]\n",
            "--no-prompt\n",
            "    Exclude input and output prompts from converted document.\n",
            "    Equivalent to: [--TemplateExporter.exclude_input_prompt=True --TemplateExporter.exclude_output_prompt=True]\n",
            "--no-input\n",
            "    Exclude input cells and output prompts from converted document.\n",
            "            This mode is ideal for generating code-free reports.\n",
            "    Equivalent to: [--TemplateExporter.exclude_output_prompt=True --TemplateExporter.exclude_input=True --TemplateExporter.exclude_input_prompt=True]\n",
            "--allow-chromium-download\n",
            "    Whether to allow downloading chromium if no suitable version is found on the system.\n",
            "    Equivalent to: [--WebPDFExporter.allow_chromium_download=True]\n",
            "--disable-chromium-sandbox\n",
            "    Disable chromium security sandbox when converting to PDF..\n",
            "    Equivalent to: [--WebPDFExporter.disable_sandbox=True]\n",
            "--show-input\n",
            "    Shows code input. This flag is only useful for dejavu users.\n",
            "    Equivalent to: [--TemplateExporter.exclude_input=False]\n",
            "--embed-images\n",
            "    Embed the images as base64 dataurls in the output. This flag is only useful for the HTML/WebPDF/Slides exports.\n",
            "    Equivalent to: [--HTMLExporter.embed_images=True]\n",
            "--sanitize-html\n",
            "    Whether the HTML in Markdown cells and cell outputs should be sanitized..\n",
            "    Equivalent to: [--HTMLExporter.sanitize_html=True]\n",
            "--log-level=<Enum>\n",
            "    Set the log level by value or name.\n",
            "    Choices: any of [0, 10, 20, 30, 40, 50, 'DEBUG', 'INFO', 'WARN', 'ERROR', 'CRITICAL']\n",
            "    Default: 30\n",
            "    Equivalent to: [--Application.log_level]\n",
            "--config=<Unicode>\n",
            "    Full path of a config file.\n",
            "    Default: ''\n",
            "    Equivalent to: [--JupyterApp.config_file]\n",
            "--to=<Unicode>\n",
            "    The export format to be used, either one of the built-in formats\n",
            "            ['asciidoc', 'custom', 'html', 'latex', 'markdown', 'notebook', 'pdf', 'python', 'qtpdf', 'qtpng', 'rst', 'script', 'slides', 'webpdf']\n",
            "            or a dotted object name that represents the import path for an\n",
            "            ``Exporter`` class\n",
            "    Default: ''\n",
            "    Equivalent to: [--NbConvertApp.export_format]\n",
            "--template=<Unicode>\n",
            "    Name of the template to use\n",
            "    Default: ''\n",
            "    Equivalent to: [--TemplateExporter.template_name]\n",
            "--template-file=<Unicode>\n",
            "    Name of the template file to use\n",
            "    Default: None\n",
            "    Equivalent to: [--TemplateExporter.template_file]\n",
            "--theme=<Unicode>\n",
            "    Template specific theme(e.g. the name of a JupyterLab CSS theme distributed\n",
            "    as prebuilt extension for the lab template)\n",
            "    Default: 'light'\n",
            "    Equivalent to: [--HTMLExporter.theme]\n",
            "--sanitize_html=<Bool>\n",
            "    Whether the HTML in Markdown cells and cell outputs should be sanitized.This\n",
            "    should be set to True by nbviewer or similar tools.\n",
            "    Default: False\n",
            "    Equivalent to: [--HTMLExporter.sanitize_html]\n",
            "--writer=<DottedObjectName>\n",
            "    Writer class used to write the\n",
            "                                        results of the conversion\n",
            "    Default: 'FilesWriter'\n",
            "    Equivalent to: [--NbConvertApp.writer_class]\n",
            "--post=<DottedOrNone>\n",
            "    PostProcessor class used to write the\n",
            "                                        results of the conversion\n",
            "    Default: ''\n",
            "    Equivalent to: [--NbConvertApp.postprocessor_class]\n",
            "--output=<Unicode>\n",
            "    Overwrite base name use for output files.\n",
            "                Supports pattern replacements '{notebook_name}'.\n",
            "    Default: '{notebook_name}'\n",
            "    Equivalent to: [--NbConvertApp.output_base]\n",
            "--output-dir=<Unicode>\n",
            "    Directory to write output(s) to. Defaults\n",
            "                                  to output to the directory of each notebook. To recover\n",
            "                                  previous default behaviour (outputting to the current\n",
            "                                  working directory) use . as the flag value.\n",
            "    Default: ''\n",
            "    Equivalent to: [--FilesWriter.build_directory]\n",
            "--reveal-prefix=<Unicode>\n",
            "    The URL prefix for reveal.js (version 3.x).\n",
            "            This defaults to the reveal CDN, but can be any url pointing to a copy\n",
            "            of reveal.js.\n",
            "            For speaker notes to work, this must be a relative path to a local\n",
            "            copy of reveal.js: e.g., \"reveal.js\".\n",
            "            If a relative path is given, it must be a subdirectory of the\n",
            "            current directory (from which the server is run).\n",
            "            See the usage documentation\n",
            "            (https://nbconvert.readthedocs.io/en/latest/usage.html#reveal-js-html-slideshow)\n",
            "            for more details.\n",
            "    Default: ''\n",
            "    Equivalent to: [--SlidesExporter.reveal_url_prefix]\n",
            "--nbformat=<Enum>\n",
            "    The nbformat version to write.\n",
            "            Use this to downgrade notebooks.\n",
            "    Choices: any of [1, 2, 3, 4]\n",
            "    Default: 4\n",
            "    Equivalent to: [--NotebookExporter.nbformat_version]\n",
            "\n",
            "Examples\n",
            "--------\n",
            "\n",
            "    The simplest way to use nbconvert is\n",
            "\n",
            "            > jupyter nbconvert mynotebook.ipynb --to html\n",
            "\n",
            "            Options include ['asciidoc', 'custom', 'html', 'latex', 'markdown', 'notebook', 'pdf', 'python', 'qtpdf', 'qtpng', 'rst', 'script', 'slides', 'webpdf'].\n",
            "\n",
            "            > jupyter nbconvert --to latex mynotebook.ipynb\n",
            "\n",
            "            Both HTML and LaTeX support multiple output templates. LaTeX includes\n",
            "            'base', 'article' and 'report'.  HTML includes 'basic', 'lab' and\n",
            "            'classic'. You can specify the flavor of the format used.\n",
            "\n",
            "            > jupyter nbconvert --to html --template lab mynotebook.ipynb\n",
            "\n",
            "            You can also pipe the output to stdout, rather than a file\n",
            "\n",
            "            > jupyter nbconvert mynotebook.ipynb --stdout\n",
            "\n",
            "            PDF is generated via latex\n",
            "\n",
            "            > jupyter nbconvert mynotebook.ipynb --to pdf\n",
            "\n",
            "            You can get (and serve) a Reveal.js-powered slideshow\n",
            "\n",
            "            > jupyter nbconvert myslides.ipynb --to slides --post serve\n",
            "\n",
            "            Multiple notebooks can be given at the command line in a couple of\n",
            "            different ways:\n",
            "\n",
            "            > jupyter nbconvert notebook*.ipynb\n",
            "            > jupyter nbconvert notebook1.ipynb notebook2.ipynb\n",
            "\n",
            "            or you can specify the notebooks list in a config file, containing::\n",
            "\n",
            "                c.NbConvertApp.notebooks = [\"my_notebook.ipynb\"]\n",
            "\n",
            "            > jupyter nbconvert --config mycfg.py\n",
            "\n",
            "To see all available configurables, use `--help-all`.\n",
            "\n"
          ]
        }
      ]
    }
  ],
  "metadata": {
    "colab": {
      "provenance": []
    },
    "kernelspec": {
      "display_name": "Python 3",
      "name": "python3"
    },
    "language_info": {
      "name": "python"
    }
  },
  "nbformat": 4,
  "nbformat_minor": 0
}